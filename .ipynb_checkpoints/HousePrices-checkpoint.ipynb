{
 "cells": [
  {
   "cell_type": "code",
   "execution_count": 10,
   "id": "71e0c1b2-0cdf-41ed-adf0-68b2ceb8f95e",
   "metadata": {},
   "outputs": [],
   "source": [
    "# Importing Required Libraries\n",
    "import pandas as pd\n",
    "import numpy as np\n",
    "import matplotlib.pyplot as plt\n",
    "import random"
   ]
  },
  {
   "cell_type": "code",
   "execution_count": 12,
   "id": "5a8c13ae-9cb1-46bc-8e04-555fcaceef21",
   "metadata": {
    "tags": []
   },
   "outputs": [],
   "source": [
    "# Function to Split Data\n",
    "def split_data(filepath):\n",
    "    with open(filepath, 'r') as file:\n",
    "        content = file.readlines()\n",
    "\n",
    "    header = content[0]\n",
    "    data_lines = content[1:]\n",
    "\n",
    "    random.shuffle(data_lines)\n",
    "    split_index = int(0.7 * len(data_lines))\n",
    "    training_data = data_lines[:split_index]\n",
    "    testing_data = data_lines[split_index:]\n",
    "\n",
    "    train_file_path = 'train_house_prices.csv'\n",
    "    test_file_path = 'test_house_prices.csv'\n",
    "\n",
    "    with open(train_file_path, 'w') as train_file:\n",
    "        train_file.write(header)\n",
    "        train_file.writelines(training_data)\n",
    "\n",
    "    with open(test_file_path, 'w') as test_file:\n",
    "        test_file.write(header)\n",
    "        test_file.writelines(testing_data)\n",
    "\n",
    "    return train_file_path, test_file_path"
   ]
  },
  {
   "cell_type": "code",
   "execution_count": 14,
   "id": "897d13b5-4139-4f7e-b272-b26377dd94f1",
   "metadata": {
    "tags": []
   },
   "outputs": [],
   "source": [
    "# Function to Load Data\n",
    "def load_data(file_path):\n",
    "    return pd.read_csv(file_path)"
   ]
  },
  {
   "cell_type": "code",
   "execution_count": 18,
   "id": "d9a006de-112e-4771-827f-e648416f786e",
   "metadata": {
    "tags": []
   },
   "outputs": [],
   "source": [
    "# Loading Training Data\n",
    "train_data = load_data('house_price_regression_dataset.csv')"
   ]
  },
  {
   "cell_type": "code",
   "execution_count": 20,
   "id": "7cbc7c60-9341-4e4a-81f1-e0bb48e5639e",
   "metadata": {
    "tags": []
   },
   "outputs": [],
   "source": [
    "# Function to Normalize Data\n",
    "def normalize_data(df):\n",
    "    mean_values = df.mean()\n",
    "    std_devs = df.std()\n",
    "    normalized_df = (df - mean_values) / std_devs\n",
    "    return normalized_df"
   ]
  },
  {
   "cell_type": "code",
   "execution_count": 22,
   "id": "1c0bab8b-2f8c-4759-90de-7596c2656f08",
   "metadata": {
    "tags": []
   },
   "outputs": [],
   "source": [
    "# Normalizing Training Data\n",
    "normalized_data = normalize_data(train_data)"
   ]
  },
  {
   "cell_type": "code",
   "execution_count": 24,
   "id": "c1a64042-f61e-49fa-b627-017b5b323c13",
   "metadata": {
    "tags": []
   },
   "outputs": [],
   "source": [
    "# Preparing Features and Targets\n",
    "target = normalized_data['House_Price']\n",
    "features_array = normalized_data.iloc[:, :-1].to_numpy()\n",
    "targets_array = target.to_numpy()"
   ]
  },
  {
   "cell_type": "code",
   "execution_count": 26,
   "id": "41804c1a-5502-4cba-86bb-5613b1a61996",
   "metadata": {
    "tags": []
   },
   "outputs": [],
   "source": [
    "# Function to Calculate R²\n",
    "def calculate_r_squared(predictions, actuals):\n",
    "    residuals = actuals - predictions\n",
    "    ss_res = np.sum(residuals ** 2)\n",
    "    ss_tot = np.sum((actuals - np.mean(actuals)) ** 2)\n",
    "    r_squared = 1 - (ss_res / ss_tot)\n",
    "    return r_squared"
   ]
  },
  {
   "cell_type": "code",
   "execution_count": 28,
   "id": "321881a4-4387-48e2-bdc7-cbe76f7794ca",
   "metadata": {
    "tags": []
   },
   "outputs": [],
   "source": [
    "# Function for Gradient Descent\n",
    "def perform_gradient_descent(features, targets, learning_rate=0.01, iterations=500):\n",
    "    bias = 0\n",
    "    weights = np.zeros(features.shape[1])\n",
    "\n",
    "    mse_history = np.empty(iterations)\n",
    "    r_squared_history = np.empty(iterations)\n",
    "\n",
    "    for i in range(iterations):\n",
    "        predictions = np.dot(features, weights) + bias\n",
    "        errors = predictions - targets\n",
    "        \n",
    "        mse_history[i] = (1 / len(features)) * np.sum(errors ** 2)\n",
    "        r_squared_history[i] = calculate_r_squared(predictions, targets)\n",
    "        \n",
    "        weight_gradient = (1 / len(features)) * np.dot(features.T, errors)\n",
    "        bias_gradient = (1 / len(features)) * np.sum(errors)\n",
    "\n",
    "        weights -= learning_rate * weight_gradient\n",
    "        bias -= learning_rate * bias_gradient\n",
    "\n",
    "    return weights, bias, mse_history, r_squared_history"
   ]
  },
  {
   "cell_type": "code",
   "execution_count": 30,
   "id": "b8b191d5-895c-4789-a027-bd5b57a74acf",
   "metadata": {
    "tags": []
   },
   "outputs": [],
   "source": [
    "# Running Gradient Descent\n",
    "final_weights, final_bias, mse_records, r_squared_records = perform_gradient_descent(features_array, targets_array)"
   ]
  },
  {
   "cell_type": "code",
   "execution_count": 32,
   "id": "70bd555e-f876-46ac-b778-d03ea65c6bf7",
   "metadata": {
    "tags": []
   },
   "outputs": [],
   "source": [
    "# Function to Plot Metrics\n",
    "def plot_metrics(mse_records, r_squared_records):\n",
    "    epochs = range(len(mse_records))\n",
    "\n",
    "    plt.figure(figsize=(12, 6))\n",
    "\n",
    "    plt.subplot(1, 2, 1)\n",
    "    plt.plot(epochs, mse_records)\n",
    "    plt.xlabel('Epochs')\n",
    "    plt.ylabel('Mean Squared Error (MSE)')\n",
    "    plt.title('MSE vs. Epochs')\n",
    "    plt.grid()\n",
    "\n",
    "    plt.subplot(1, 2, 2)\n",
    "    plt.plot(epochs, r_squared_records)\n",
    "    plt.xlabel('Epochs')\n",
    "    plt.ylabel('R² Value')\n",
    "    plt.title('R² vs. Epochs')\n",
    "    plt.grid()\n",
    "\n",
    "    plt.tight_layout()\n",
    "    plt.show()"
   ]
  },
  {
   "cell_type": "code",
   "execution_count": 34,
   "id": "7c050365-7d9e-4873-a4d9-7b2774f75e87",
   "metadata": {
    "tags": []
   },
   "outputs": [
    {
     "data": {
      "image/png": "[encoded data removed]",
      "text/plain": [
       "<Figure size 1200x600 with 2 Axes>"
      ]
     },
     "metadata": {},
     "output_type": "display_data"
    }
   ],
   "source": [
    "# Plotting Metrics\n",
    "plot_metrics(mse_records, r_squared_records)"
   ]
  },
  {
   "cell_type": "code",
   "execution_count": 38,
   "id": "fc5fc38b-a4ca-49e3-9221-7cd17e98a960",
   "metadata": {
    "tags": []
   },
   "outputs": [],
   "source": [
    "# Loading Testing Data\n",
    "test_data = load_data('house_price_regression_dataset.csv')"
   ]
  },
  {
   "cell_type": "code",
   "execution_count": 40,
   "id": "107b033c-f80f-4e03-a7d3-36a46b4945dc",
   "metadata": {
    "tags": []
   },
   "outputs": [],
   "source": [
    "# Normalizing Testing Data\n",
    "normalized_test_data = normalize_data(test_data)"
   ]
  },
  {
   "cell_type": "code",
   "execution_count": 42,
   "id": "e7ef8b10-714d-4d71-8834-cfd5ad7b264d",
   "metadata": {
    "tags": []
   },
   "outputs": [],
   "source": [
    "# Preparing Testing Features and Targets\n",
    "test_target = normalized_test_data['House_Price']\n",
    "test_features = normalized_test_data.iloc[:, :-1].to_numpy()\n",
    "test_targets_array = test_target.to_numpy()"
   ]
  },
  {
   "cell_type": "code",
   "execution_count": 44,
   "id": "2de92fee-983f-4677-b89b-12607edfb2fc",
   "metadata": {
    "tags": []
   },
   "outputs": [
    {
     "name": "stdout",
     "output_type": "stream",
     "text": [
      "Test Accuracy: 99.85%\n"
     ]
    }
   ],
   "source": [
    "# Calculating Testing Accuracy\n",
    "test_predictions = np.dot(test_features, final_weights) + final_bias\n",
    "test_accuracy = calculate_r_squared(test_predictions, test_targets_array)\n",
    "print(f\"Test Accuracy: {test_accuracy * 100:.2f}%\")"
   ]
  },
  {
   "cell_type": "code",
   "execution_count": null,
   "id": "02d9a1ae-5adf-40c9-92f5-6d8036ffeb34",
   "metadata": {},
   "outputs": [],
   "source": []
  }
 ],
 "metadata": {
  "kernelspec": {
   "display_name": "Python 3 (ipykernel)",
   "language": "python",
   "name": "python3"
  },
  "language_info": {
   "codemirror_mode": {
    "name": "ipython",
    "version": 3
   },
   "file_extension": ".py",
   "mimetype": "text/x-python",
   "name": "python",
   "nbconvert_exporter": "python",
   "pygments_lexer": "ipython3",
   "version": "3.11.7"
  }
 },
 "nbformat": 4,
 "nbformat_minor": 5
}
